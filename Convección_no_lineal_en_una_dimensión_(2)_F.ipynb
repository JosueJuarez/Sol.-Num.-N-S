{
 "cells": [
  {
   "cell_type": "markdown",
   "metadata": {
    "colab_type": "text",
    "id": "vTlAC2qhjFi9"
   },
   "source": [
    "## Notas originales: [12 steps to N-S](https://www.theoj.org/jose-papers/jose.00021/10.21105.jose.00021.pdf)"
   ]
  },
  {
   "cell_type": "markdown",
   "metadata": {
    "colab_type": "text",
    "id": "tYbq-maBjIXK"
   },
   "source": [
    "#Convección no lineal en una dimensión (segunda clase)\n",
    "----------------------------------------\n",
    "\n",
    "En una dimensión la covección esta dada por la ecuación\n",
    "\\begin{equation}\n",
    "\\frac{\\partial u}{\\partial t} + u \\frac{\\partial u}{\\partial x} = 0,\n",
    "\\end{equation}\n",
    "la solución $u$ en el segundo termino vuelve a la ecuación no lineal.\n",
    "\n",
    "Al que igual que en la convección lineal, se utiliza el mismo proceso de discretización en la ecuación\n",
    "\\begin{equation}\n",
    "\\frac{u_i^{n+1}-u_i^n}{\\Delta t} + u^{n}_{i} \\frac{u_i^n - u_{i-1}^n}{\\Delta x} = 0,\n",
    "\\end{equation}\n",
    "y se busca resolver para el término desconcido\n",
    "\\begin{equation}\n",
    "u_i^{n+1} = u_i^n - u^{n}_{i} \\frac{\\Delta t}{\\Delta x}(u_i^n-u_{i-1}^n).\n",
    "\\end{equation}"
   ]
  },
  {
   "cell_type": "markdown",
   "metadata": {
    "colab_type": "text",
    "id": "r6QMzyVKjSQ1"
   },
   "source": [
    "#Ejemplo\n",
    "-----------------------------------\n",
    "Realizamos un ejemplo para la función pulso\n",
    "\\begin{equation}\n",
    "u(x_0, x_l, x)= \\left\\{ \\begin{array}{lcc}\n",
    "             1 &   si  & x < x_0 \\\\\n",
    "             \\\\ 2 &  si & x_0 \\leq x < x_l \\\\\n",
    "             \\\\ 1 &  si  & x > x_l \n",
    "             \\end{array}\n",
    "   \\right.,\n",
    "\\end{equation}\n",
    "la razon por la que se ha elevado al pulso, es que, el termino no lineal vuelve cero toda la equación para los $u_i = 0$.\n",
    "\n",
    "Se implementa un codigo parecido al de la conveción lineal"
   ]
  },
  {
   "cell_type": "code",
   "execution_count": 0,
   "metadata": {
    "colab": {
     "base_uri": "https://localhost:8080/",
     "height": 286
    },
    "colab_type": "code",
    "id": "UfRxSFsblzn8",
    "outputId": "48400297-7722-4ce2-d89a-c72c3824c9d9"
   },
   "outputs": [
    {
     "data": {
      "text/plain": [
       "[<matplotlib.lines.Line2D at 0x7f30d92a3940>]"
      ]
     },
     "execution_count": 2,
     "metadata": {
      "tags": []
     },
     "output_type": "execute_result"
    },
    {
     "data": {
      "image/png": "[encoded data removed]",
      "text/plain": [
       "<Figure size 432x288 with 1 Axes>"
      ]
     },
     "metadata": {
      "tags": []
     },
     "output_type": "display_data"
    }
   ],
   "source": [
    "import numpy as np #importa numpy.\n",
    "import matplotlib.pyplot as plt #importa la herramienta para graficar\n",
    "%matplotlib inline\n",
    "#hace que las gráficas aparescan en la siguiente linea\n",
    "\n",
    "def pulso(x0, x1, x): #define la función pulso\n",
    "  if x < x0 or x > x1:\n",
    "    return(1.0)\n",
    "  else:\n",
    "    return(2.0)\n",
    "\n",
    "L = 2 #el tamaño de nuestro intervalo en x\n",
    "nx = 41 #el número en que se va a discretizar la variable x\n",
    "dx = L/(nx-1) #la distancia que hay entre cada punto discretizado x (dx)\n",
    "T = 1.0 #intervalo total de tiempo\n",
    "nt = 51 #número de veces que se discretiza la variable tiempo\n",
    "dt = T/(nt-1) #tamaño de los intervalos de tiempo (dt)\n",
    "c = 1.0 #velocidad de la onda (e.d.)\n",
    "u = np.linspace(0, L, nx) #np.linspace genera un vector con nx entradas que contiene números igualmente espaciados en un intervalo (0,L)\n",
    "x = np.linspace(0, L, nx) #generamos dos porque uno va a entrar a la funcion pulso\n",
    "#print(u) #u = x en este caso\n",
    "\n",
    "for i in range(len(x)):\n",
    "  u[i] = pulso(0.5, 1.0, x[i]) #es de hecho la condicion inicial\n",
    "\n",
    "#print(u) #x ahora esta evaluada en la función pulso\n",
    "\n",
    "plt.plot(x,u)"
   ]
  },
  {
   "cell_type": "code",
   "execution_count": 0,
   "metadata": {
    "colab": {
     "base_uri": "https://localhost:8080/",
     "height": 286
    },
    "colab_type": "code",
    "id": "CSzShA4GmkyA",
    "outputId": "9cf5de1a-dfaf-453f-ba07-126bb417bc79"
   },
   "outputs": [
    {
     "data": {
      "text/plain": [
       "[<matplotlib.lines.Line2D at 0x7f30d69c2518>]"
      ]
     },
     "execution_count": 3,
     "metadata": {
      "tags": []
     },
     "output_type": "execute_result"
    },
    {
     "data": {
      "image/png": "[encoded data removed]",
      "text/plain": [
       "<Figure size 432x288 with 1 Axes>"
      ]
     },
     "metadata": {
      "tags": []
     },
     "output_type": "display_data"
    }
   ],
   "source": [
    "un = np.zeros(nx) #crea un vector temporal de tamaño nx con entradas ceros\n",
    "for n in range(nt): #genera el loop nt veces\n",
    "  un = u.copy() #copia los elementos de u al vector temporal un\n",
    "  for i in range(1,nx): #el loop realiza las operaciones para calcular el u^{n+1}_{i}, pero comienza con el elemento u[1] y no u[o] (se salta el primer elemento)\n",
    "    u[i] = un[i]- un[i]*dt*(un[i]-un[i-1])/dx\n",
    "\n",
    "plt.plot(x,u)"
   ]
  }
 ],
 "metadata": {
  "colab": {
   "name": "Convección no lineal en una dimensión (2)-F.ipynb",
   "provenance": []
  },
  "kernelspec": {
   "display_name": "Python 3",
   "language": "python",
   "name": "python3"
  },
  "language_info": {
   "codemirror_mode": {
    "name": "ipython",
    "version": 3
   },
   "file_extension": ".py",
   "mimetype": "text/x-python",
   "name": "python",
   "nbconvert_exporter": "python",
   "pygments_lexer": "ipython3",
   "version": "3.7.3"
  }
 },
 "nbformat": 4,
 "nbformat_minor": 1
}
