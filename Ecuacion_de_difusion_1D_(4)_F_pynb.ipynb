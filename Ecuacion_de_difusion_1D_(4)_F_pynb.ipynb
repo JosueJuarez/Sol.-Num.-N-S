{
 "cells": [
  {
   "cell_type": "markdown",
   "metadata": {
    "colab_type": "text",
    "id": "-0yqICiwYPoZ"
   },
   "source": [
    "# Notas originales: [12 steps to N-S](https://www.theoj.org/jose-papers/jose.00021/10.21105.jose.00021.pdf)"
   ]
  },
  {
   "cell_type": "markdown",
   "metadata": {
    "colab_type": "text",
    "id": "82fIxlQOaS2N"
   },
   "source": [
    "#Ecuación de difusión 1D\n",
    "-------\n",
    "La ecuacion de difusión la encontramos en diferentes capos de la física. \n",
    "Si analizamos una función de densidad local de partículas $\\rho$, ésta obedece una relación\n",
    "\\begin{equation}\n",
    "\\frac{\\partial \\rho}{\\partial t} = - \\nabla \\cdot \\mathbf{j}\n",
    "\\end{equation}\n",
    "donde $\\mathbf{j}$ es una densidad de flujo de corriente. También se conoce ésta interpretación como aproximación de Fick. En ésta describimos el desplazamiento natural de los sistemas de lugarres de mayor concentración a menor concentración.\n",
    "\\begin{equation}\n",
    "\\frac{\\partial u}{\\partial t} = D_{0} \\nabla^{2} \\rho\n",
    "\\end{equation}\n",
    "\n",
    "La ecuación de difusión en una dimension tiene la forma\n",
    "\\begin{equation}\n",
    "\\frac{\\partial u}{\\partial t} = \\nu \\frac{\\partial^2 u}{\\partial x^2},\n",
    "\\end{equation}\n",
    "donde $v$ es el coeficiente de difusión. En ésta ocación tenemos una segunda derivada en juego, y como tal debemos discretizarl de manera apropiada. Consideramos la expansión en series de Taylor para una variación hacia adelante $+\\Delta x$ y otra para hacia atras $-\\Delta x$ tal que\n",
    "\n",
    "\\begin{equation}\n",
    "u_{i+1} = u_i + \\left( \\frac{\\partial u}{\\partial x} \\right)_i \\Delta x + \\frac{1}{2} \\left( \\frac{\\partial^2 u}{\\partial x^2} \\right)_i \\Delta x^2 + \\frac{1}{6} \\left( \\frac{\\partial^3 u}{\\partial x^3} \\right)_i \\Delta x^3 + O(\\Delta x^4),\n",
    "\\end{equation}\n",
    "\\begin{equation}\n",
    "u_{i-1} = u_i - \\left( \\frac{\\partial u}{\\partial x} \\right)_i \\Delta x + \\frac{1}{2} \\left( \\frac{\\partial^2 u}{\\partial x^2} \\right)_i \\Delta x^2 - \\frac{1}{6} \\left( \\frac{\\partial^3 u}{\\partial x^3} \\right)_i \\Delta x^3 + O(\\Delta x^4),\n",
    "\\end{equation}\n",
    "al sumar estas dos cantidades y despejar el símbolo de segunda derivada evaluada en el punto $x_i$ obtenemos\n",
    "\\begin{equation}\n",
    "\\left( \\frac{\\partial^2 u}{\\partial x^2} \\right) = \\frac{u_{i+1}-2u_i+u_{i-1}}{\\Delta x^2} + O(\\Delta x^2),\n",
    "\\end{equation}\n",
    "con esto podemos discretizar la ecuación de difusion en una dimensión\n",
    "\\begin{equation}\n",
    "\\frac{u^{n+1}_{i} - u^{n}_{i}}{\\Delta t} = \\nu \\frac{u^{n}_{i+1}-2u^{n}_{i} + u^{n}_{i-1}}{\\Delta x^2},\n",
    "\\end{equation}\n",
    "teniendo una condición inicial, la unica incognita en la ecuacion es $u^{n+1}_{i}$, despejando para esta incognita\n",
    "\n",
    "\\begin{equation}\n",
    "u^{n+1}_{i} = u^{n}_{i} + \\frac{\\nu \\Delta t}{\\Delta x^{2}} (u^{n}_{i+1}-2u^{n}_{i} + u^{n}_{i-1}),\n",
    "\\end{equation}\n",
    "la ultima ecuación nos permite avanzar en el tiempo dada una condición inicial.\n",
    "\n",
    "Realizamos un ejemplo con la función pulso."
   ]
  },
  {
   "cell_type": "code",
   "execution_count": 0,
   "metadata": {
    "colab": {
     "base_uri": "https://localhost:8080/",
     "height": 286
    },
    "colab_type": "code",
    "id": "uU1BFHuRdx9G",
    "outputId": "4ba5144e-1b3f-4f44-f2d7-3ae322dd8225"
   },
   "outputs": [
    {
     "data": {
      "text/plain": [
       "[<matplotlib.lines.Line2D at 0x7f08ceecc780>]"
      ]
     },
     "execution_count": 10,
     "metadata": {
      "tags": []
     },
     "output_type": "execute_result"
    },
    {
     "data": {
      "image/png": "[encoded data removed]",
      "text/plain": [
       "<Figure size 432x288 with 1 Axes>"
      ]
     },
     "metadata": {
      "tags": []
     },
     "output_type": "display_data"
    }
   ],
   "source": [
    "import numpy as np #importa numpy.\n",
    "import matplotlib.pyplot as plt #importa la herramienta para graficar\n",
    "%matplotlib inline\n",
    "#hace que las gráficas aparescan en la siguiente linea\n",
    "\n",
    "def pulso(x0, x1, x): #define la función pulso\n",
    "  if x < x0 or x > x1:\n",
    "    return(0.0)\n",
    "  else:\n",
    "    return(1.0)\n",
    "\n",
    "L = 2 #el tamaño de nuestro intervalo en x\n",
    "nx = 41\n",
    "dx = L/(nx-1) #la distancia que hay entre cada punto discretizado x (dx)\n",
    "T = 1.0 #intervalo total de tiempo\n",
    "nt = 2000 #número de veces que se discretiza la variable tiempo\n",
    "c = 1.0 #velocidad de la onda (e.d.)\n",
    "nu = 0.3 #viscocidad\n",
    "sigmamax = 0.1\n",
    "dt = dx*sigmamax/nu\n",
    "  \n",
    "\n",
    "u = np.linspace(0, L, nx) #np.linspace genera un vector con nx entradas que contiene números igualmente espaciados en un intervalo (0,L)\n",
    "x = np.linspace(0, L, nx) #generamos dos porque uno va a entrar a la funcion pulso\n",
    "\n",
    "for i in range(len(x)):\n",
    "  u[i] = pulso(1.0, 2.0, x[i])\n",
    "\n",
    "\n",
    "un = np.zeros(nx) #crea un vector temporal de tamaño nx con entradas ceros  \n",
    "for n in range(nt): #genera el loop nt veces\n",
    "  un = u.copy() #copia los elementos de u al vector temporal un\n",
    "  for i in range(1,nx-1): #el loop realiza las operaciones para calcular el u^{n+1}_{i}, pero comienza con el elemento u[1] y no u[o] (se salta el primer elemento)\n",
    "    u[i] = un[i] + nu*dt*(un[i+1]-2.0*un[i] + un[i-1])/dx*dx\n",
    "\n",
    "plt.plot(x,u)"
   ]
  }
 ],
 "metadata": {
  "colab": {
   "name": "Ecuacion de difusion 1D (4)-F.pynb",
   "provenance": []
  },
  "kernelspec": {
   "display_name": "Python 3",
   "language": "python",
   "name": "python3"
  },
  "language_info": {
   "codemirror_mode": {
    "name": "ipython",
    "version": 3
   },
   "file_extension": ".py",
   "mimetype": "text/x-python",
   "name": "python",
   "nbconvert_exporter": "python",
   "pygments_lexer": "ipython3",
   "version": "3.7.3"
  }
 },
 "nbformat": 4,
 "nbformat_minor": 1
}
