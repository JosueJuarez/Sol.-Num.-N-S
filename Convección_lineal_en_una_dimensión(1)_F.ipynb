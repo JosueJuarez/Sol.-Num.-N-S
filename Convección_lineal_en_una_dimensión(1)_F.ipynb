{
  "nbformat": 4,
  "nbformat_minor": 0,
  "metadata": {
    "colab": {
      "name": "Convección lineal en una dimensión(1)-F.ipynb",
      "provenance": [],
      "collapsed_sections": []
    },
    "kernelspec": {
      "name": "python3",
      "display_name": "Python 3"
    }
  },
  "cells": [
    {
      "cell_type": "markdown",
      "metadata": {
        "id": "6aBJ9ebfdjYa",
        "colab_type": "text"
      },
      "source": [
        "#Convección lineal en una dimensión.\n",
        "##Josué Juárez Morales\n",
        "[12 steps to N-S](https://www.theoj.org/jose-papers/jose.00021/10.21105.jose.00021.pdf)\n",
        "-------------------------\n",
        "\n",
        "\n",
        "La ecuación de convección lineal en una dimensión es\n",
        "\\begin{equation}\n",
        "\\frac{\\partial u}{\\partial t} + c \\frac{\\partial u}{\\partial x} = 0,\n",
        "\\end{equation}\n",
        "con una condición inicial\n",
        "\\begin{equation}\n",
        "u(x, t=0) = u_{0}(x),\n",
        "\\end{equation}\n",
        "la solución de esta ecuación diferencial es\n",
        "\\begin{equation}\n",
        "u(x,t) = u_{0}(x-ct).\n",
        "\\end{equation}\n",
        "\n",
        "La interpretación de esta ecuación es que para un perfil $u_{0}(x)$ que es desplazado a velocidad $c$ después de un tiempo $t$, entonces $u(x)$ es simplemente el perfil inicial desplazado una distancia $x = ct$."
      ]
    },
    {
      "cell_type": "markdown",
      "metadata": {
        "id": "rhsfGCGTYkH5",
        "colab_type": "text"
      },
      "source": [
        "#Discretización\n",
        "-------------------------\n",
        "El siguiente paso es discretizar la ecuación diferencial. \n",
        "Recordamos que la definición de derivada es\n",
        "\\begin{equation}\n",
        "\\frac{d}{dx}f(x) = \\lim\\limits_{\\Delta x \\to 0} \\frac{f(x + \\Delta x) - f(x)}{\\Delta x}.\n",
        "\\end{equation}\n",
        "Si discretizamos la coordenada espacial en el conjunto de puntos  $x = (x_1, \\dots , x_n)$ y aumentos discretos de tiempo $\\Delta t$, entonces la ecuación discreta es\n",
        "\\begin{equation}\n",
        "\\frac{u_i^{n+1}-u_i^n}{\\Delta t} + c \\frac{u_i^n - u_{i-1}^n}{\\Delta x} = 0,\n",
        "\\end{equation}\n",
        "donde para la derivada temporal, se utiliza una diferenciación hacia adelante, y hacia atrás para la derivada espacial. Dependiendo de que tan pequeños sean los $\\Delta x$ y $\\Delta t$ la aproximación es mas parecida a la derivada real.\n",
        "\n",
        "$n$ y $n-1$ representan dos pasos consecutivos en el tiempo, mientras que $i$ e $i-1$ son dos puntos vecinos de la coordenada $x$ discretizada. Si la condición inicial esta dada, entonces el valor $u_i^{n+1}$ es la única incógnita en la ecuación discretizada. Si despejamos para esta función obtenemos una ecuación que permite avanzar en el tiempo\n",
        "\\begin{equation}\n",
        "u_i^{n+1} = u_i^n - c \\frac{\\Delta t}{\\Delta x}(u_i^n-u_{i-1}^n).\n",
        "\\end{equation}"
      ]
    },
    {
      "cell_type": "markdown",
      "metadata": {
        "id": "kPlJgJwwia_h",
        "colab_type": "text"
      },
      "source": [
        "#Ejemplo\n",
        "-------------------------\n",
        "Definimos\n",
        "\\begin{equation}\n",
        "u(x_0, x_l, x)= \\left\\{ \\begin{array}{lcc}\n",
        "             0 &   si  & x < x_0 \\\\\n",
        "             \\\\ 1 &  si & x_0 \\leq x < x_l \\\\\n",
        "             \\\\ 0 &  si  & x > x_l \n",
        "             \\end{array}\n",
        "   \\right.,\n",
        "\\end{equation}\n",
        "el cual representa un pulso entre los valores $x_0$ y $x_l$.\n",
        "\n",
        "Procedemos a implementarlo en código"
      ]
    },
    {
      "cell_type": "code",
      "metadata": {
        "id": "q2jIdSiAt6py",
        "colab_type": "code",
        "outputId": "a80de0c3-3fee-4d10-c826-b62e9e416e0c",
        "colab": {
          "base_uri": "https://localhost:8080/",
          "height": 286
        }
      },
      "source": [
        "import numpy as np #importa numpy.\n",
        "import matplotlib.pyplot as plt #importa la herramienta para graficar\n",
        "%matplotlib inline\n",
        "#hace que las gráficas aparescan en la siguiente linea\n",
        "\n",
        "def pulso(x0, x1, x): #define la función pulso\n",
        "  if x < x0 or x > x1:\n",
        "    return(0.0)\n",
        "  else:\n",
        "    return(1.0)\n",
        "\n",
        "L = 2 #el tamaño de nuestro intervalo en x\n",
        "nx = 41 #el número en que se va a discretizar la variable x\n",
        "dx = L/(nx-1) #la distancia que hay entre cada punto discretizado x (dx)\n",
        "T = 1.0 #intervalo total de tiempo\n",
        "nt = 51 #número de veces que se discretiza la variable tiempo\n",
        "dt = T/(nt-1) #tamaño de los intervalos de tiempo (dt)\n",
        "c = 1.0 #velocidad de la onda (e.d.)\n",
        "u = np.linspace(0, L, nx) #np.linspace genera un vector con nx entradas que contiene números igualmente espaciados en un intervalo (0,L)\n",
        "x = np.linspace(0, L, nx) #generamos dos porque uno va a entrar a la funcion pulso\n",
        "#print(u) #u = x en este caso\n",
        "\n",
        "for i in range(len(x)):\n",
        "  u[i] = pulso(0.5, 1.0, x[i]) #es de hecho la condicion inicial\n",
        "\n",
        "#print(u) #x ahora esta evaluada en la función pulso\n",
        "\n",
        "plt.plot(x,u)"
      ],
      "execution_count": 0,
      "outputs": [
        {
          "output_type": "execute_result",
          "data": {
            "text/plain": [
              "[<matplotlib.lines.Line2D at 0x7f9b2c0e3320>]"
            ]
          },
          "metadata": {
            "tags": []
          },
          "execution_count": 19
        },
        {
          "output_type": "display_data",
          "data": {
            "image/png": "[encoded data removed]",
            "text/plain": [
              "<Figure size 432x288 with 1 Axes>"
            ]
          },
          "metadata": {
            "tags": []
          }
        }
      ]
    },
    {
      "cell_type": "markdown",
      "metadata": {
        "id": "xsJyFVa20yVM",
        "colab_type": "text"
      },
      "source": [
        "Ahora implementamos la discretización, para cada elemento de $u$ se debe realizar la operación\n",
        "\\begin{equation}\n",
        "u_i^{n+1} = u_i^n - c \\frac{\\Delta t}{\\Delta x}(u_i^n-u_{i-1}^n),\n",
        "\\end{equation}\n",
        "el código que realiza esto es"
      ]
    },
    {
      "cell_type": "code",
      "metadata": {
        "id": "r7Nt35wP4nxq",
        "colab_type": "code",
        "outputId": "bf33ae67-8060-45fa-9e32-3de5ff40e7d1",
        "colab": {
          "base_uri": "https://localhost:8080/",
          "height": 286
        }
      },
      "source": [
        "un = np.zeros(nx) #crea un vector temporal de tamaño nx con entradas ceros\n",
        "for n in range(nt): #genera el loop nt veces\n",
        "  un = u.copy() #copia los elementos de u al vector temporal un\n",
        "  for i in range(1,nx): #el loop realiza las operaciones para calcular el u^{n+1}_{i}, pero comienza con el elemento u[1] y no u[o] (se salta el primer elemento)\n",
        "    u[i] = un[i]- c*dt*(un[i]-un[i-1])/dx\n",
        "\n",
        "plt.plot(x,u)"
      ],
      "execution_count": 0,
      "outputs": [
        {
          "output_type": "execute_result",
          "data": {
            "text/plain": [
              "[<matplotlib.lines.Line2D at 0x7f9b2c042630>]"
            ]
          },
          "metadata": {
            "tags": []
          },
          "execution_count": 20
        },
        {
          "output_type": "display_data",
          "data": {
            "image/png": "[encoded data removed]",
            "text/plain": [
              "<Figure size 432x288 with 1 Axes>"
            ]
          },
          "metadata": {
            "tags": []
          }
        }
      ]
    },
    {
      "cell_type": "markdown",
      "metadata": {
        "id": "N9FiPtzq61E3",
        "colab_type": "text"
      },
      "source": [
        "El pulso se desplazo hacia la derecha y dejó de ser de forma cuadrada. La razón por la que ya no es cuadrada, es que, el número de veces en que se dividió la variable $x$ es muy pequeña y la aproximación de la derivada no es muy buena. Esto se corrige dando un valor más grande al `nx`, pero también, valores grandes de `nx` producen inestabilidad númerica."
      ]
    },
    {
      "cell_type": "markdown",
      "metadata": {
        "id": "W5mBHd3GLnDQ",
        "colab_type": "text"
      },
      "source": [
        "Si en el ```for``` donde se calcula el elemento $u_i^{n+1}$ no se salta el primer elemento, lo que sucede es"
      ]
    },
    {
      "cell_type": "code",
      "metadata": {
        "id": "Maz2Olsj63tT",
        "colab_type": "code",
        "outputId": "99432176-27bf-46f6-8ec6-cb6d4af7e711",
        "colab": {
          "base_uri": "https://localhost:8080/",
          "height": 286
        }
      },
      "source": [
        "un = np.zeros(nx)\n",
        "for n in range(nt):\n",
        "  un = u.copy()\n",
        "  for i in range(nx): #no se salta el primer elemento\n",
        "    u[i] = un[i]- c*dt*(un[i]-un[i-1])/dx\n",
        "\n",
        "plt.plot(x,u)"
      ],
      "execution_count": 0,
      "outputs": [
        {
          "output_type": "execute_result",
          "data": {
            "text/plain": [
              "[<matplotlib.lines.Line2D at 0x7f9b2c01fda0>]"
            ]
          },
          "metadata": {
            "tags": []
          },
          "execution_count": 21
        },
        {
          "output_type": "display_data",
          "data": {
            "image/png": "[encoded data removed]",
            "text/plain": [
              "<Figure size 432x288 with 1 Axes>"
            ]
          },
          "metadata": {
            "tags": []
          }
        }
      ]
    },
    {
      "cell_type": "markdown",
      "metadata": {
        "id": "Cz43feuoF3hI",
        "colab_type": "text"
      },
      "source": [
        "Se debe de empezar el `for(1, nx)` asi, porque de la ecuacion iterada, si se comienza desde el número $i = 0$, se necesitaría el elemento $i = -1$ para realizar el calculo; ese elemento no se encuentra en la lista de puntos `u`. El programa funciona porque en python el elmento $i = -1$ es el último elemento de una lista."
      ]
    }
  ]
}
